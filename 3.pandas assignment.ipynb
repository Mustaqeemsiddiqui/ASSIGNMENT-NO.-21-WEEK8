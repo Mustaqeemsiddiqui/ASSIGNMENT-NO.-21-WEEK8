{
 "cells": [
  {
   "cell_type": "markdown",
   "id": "ccf1ed5b-557d-4f7e-b6f0-912458fdc4a3",
   "metadata": {},
   "source": [
    "Consider following code to answer further questions:\n",
    "import pandas as pd\n",
    "course_name = [‘Data Science’, ‘Machine Learning’, ‘Big Data’, ‘Data Engineer’]\n",
    "duration = [2,3,6,4]\n",
    "df = pd.DataFrame(data = {‘course_name’ : course_name, ‘duration’ : duration})\n"
   ]
  },
  {
   "cell_type": "markdown",
   "id": "d1d61617-3564-4c05-b03c-b25a6b10e01e",
   "metadata": {},
   "source": [
    "Q1. Write a code to print the data present in the second row of the dataframe, df."
   ]
  },
  {
   "cell_type": "code",
   "execution_count": 8,
   "id": "d8dc38f6-c929-4de9-870a-7ae6219a5db9",
   "metadata": {},
   "outputs": [],
   "source": [
    "import pandas as pd \n",
    "course_name = ['Data Science', 'Machine Learning', 'Big Data', 'Data Engineer'] \n",
    "duration = [2,3,6,4] "
   ]
  },
  {
   "cell_type": "code",
   "execution_count": 9,
   "id": "0b5f470e-651c-4c18-8f6b-e26e3a10cc5e",
   "metadata": {},
   "outputs": [],
   "source": [
    "df = pd.DataFrame(data = {'course_name' : course_name, 'duration' : duration})"
   ]
  },
  {
   "cell_type": "code",
   "execution_count": 10,
   "id": "68b3bd9e-662a-4a73-833a-a722a46c30a4",
   "metadata": {},
   "outputs": [
    {
     "data": {
      "text/html": [
       "<div>\n",
       "<style scoped>\n",
       "    .dataframe tbody tr th:only-of-type {\n",
       "        vertical-align: middle;\n",
       "    }\n",
       "\n",
       "    .dataframe tbody tr th {\n",
       "        vertical-align: top;\n",
       "    }\n",
       "\n",
       "    .dataframe thead th {\n",
       "        text-align: right;\n",
       "    }\n",
       "</style>\n",
       "<table border=\"1\" class=\"dataframe\">\n",
       "  <thead>\n",
       "    <tr style=\"text-align: right;\">\n",
       "      <th></th>\n",
       "      <th>course_name</th>\n",
       "      <th>duration</th>\n",
       "    </tr>\n",
       "  </thead>\n",
       "  <tbody>\n",
       "    <tr>\n",
       "      <th>0</th>\n",
       "      <td>Data Science</td>\n",
       "      <td>2</td>\n",
       "    </tr>\n",
       "    <tr>\n",
       "      <th>1</th>\n",
       "      <td>Machine Learning</td>\n",
       "      <td>3</td>\n",
       "    </tr>\n",
       "    <tr>\n",
       "      <th>2</th>\n",
       "      <td>Big Data</td>\n",
       "      <td>6</td>\n",
       "    </tr>\n",
       "    <tr>\n",
       "      <th>3</th>\n",
       "      <td>Data Engineer</td>\n",
       "      <td>4</td>\n",
       "    </tr>\n",
       "  </tbody>\n",
       "</table>\n",
       "</div>"
      ],
      "text/plain": [
       "        course_name  duration\n",
       "0      Data Science         2\n",
       "1  Machine Learning         3\n",
       "2          Big Data         6\n",
       "3     Data Engineer         4"
      ]
     },
     "execution_count": 10,
     "metadata": {},
     "output_type": "execute_result"
    }
   ],
   "source": [
    "df"
   ]
  },
  {
   "cell_type": "code",
   "execution_count": 15,
   "id": "ec30036e-ce85-4eea-97eb-b7ce8115c845",
   "metadata": {},
   "outputs": [
    {
     "name": "stdout",
     "output_type": "stream",
     "text": [
      "course_name    Machine Learning\n",
      "duration                      3\n",
      "Name: 1, dtype: object\n"
     ]
    }
   ],
   "source": [
    "second_row_loc = df.loc[1]\n",
    "print(second_row_loc)"
   ]
  },
  {
   "cell_type": "code",
   "execution_count": 17,
   "id": "96d131a4-25c9-4fc9-9147-d481c49b9dce",
   "metadata": {},
   "outputs": [
    {
     "data": {
      "text/html": [
       "<div>\n",
       "<style scoped>\n",
       "    .dataframe tbody tr th:only-of-type {\n",
       "        vertical-align: middle;\n",
       "    }\n",
       "\n",
       "    .dataframe tbody tr th {\n",
       "        vertical-align: top;\n",
       "    }\n",
       "\n",
       "    .dataframe thead th {\n",
       "        text-align: right;\n",
       "    }\n",
       "</style>\n",
       "<table border=\"1\" class=\"dataframe\">\n",
       "  <thead>\n",
       "    <tr style=\"text-align: right;\">\n",
       "      <th></th>\n",
       "      <th>1</th>\n",
       "    </tr>\n",
       "  </thead>\n",
       "  <tbody>\n",
       "    <tr>\n",
       "      <th>course_name</th>\n",
       "      <td>Machine Learning</td>\n",
       "    </tr>\n",
       "    <tr>\n",
       "      <th>duration</th>\n",
       "      <td>3</td>\n",
       "    </tr>\n",
       "  </tbody>\n",
       "</table>\n",
       "</div>"
      ],
      "text/plain": [
       "                            1\n",
       "course_name  Machine Learning\n",
       "duration                    3"
      ]
     },
     "execution_count": 17,
     "metadata": {},
     "output_type": "execute_result"
    }
   ],
   "source": [
    "pd.DataFrame(second_row_loc)"
   ]
  },
  {
   "cell_type": "markdown",
   "id": "d33802d2-af7d-44ca-b2cb-273be035ff67",
   "metadata": {},
   "source": [
    "Q2. What is the difference between the functions loc and iloc in pandas.DataFrame?"
   ]
  },
  {
   "cell_type": "markdown",
   "id": "2b74e91a-62eb-4826-bdcf-0db52ceaaff6",
   "metadata": {},
   "source": [
    "\n",
    "1) **`loc`**:\n",
    "  - **Label-based**: Accesses data using row and column labels.\n",
    "  - **Inclusive**: Includes both the start and end labels when slicing.\n",
    "  - **Example**: `df.loc[1, 'course_name']` accesses the value at row label 1 and column 'course_name'.\n",
    "\n",
    "2) **`iloc`**:\n",
    "  - **Integer-based**: Accesses data using row and column positions (integers).\n",
    "  - **Exclusive**: Excludes the end position when slicing.\n",
    "  - **Example**: `df.iloc[1, 0]` accesses the value at the second row and first column (index 1, 0).\n",
    "\n"
   ]
  },
  {
   "cell_type": "code",
   "execution_count": 22,
   "id": "aab74534-03ba-438d-97f1-b82ff4c3ad70",
   "metadata": {},
   "outputs": [
    {
     "name": "stdout",
     "output_type": "stream",
     "text": [
      "course_name    Machine Learning\n",
      "duration                      3\n",
      "Name: 1, dtype: object\n"
     ]
    }
   ],
   "source": [
    "#example of loc\n",
    "course_name = ['Data Science', 'Machine Learning', 'Big Data', 'Data Engineer']\n",
    "duration = [2, 3, 6, 4]\n",
    "df = pd.DataFrame(data={'course_name': course_name, 'duration': duration})\n",
    "print(df.loc[1])"
   ]
  },
  {
   "cell_type": "code",
   "execution_count": 23,
   "id": "c6e96dcf-17f4-480a-9c5d-4bcbb1f53b8e",
   "metadata": {},
   "outputs": [
    {
     "data": {
      "text/html": [
       "<div>\n",
       "<style scoped>\n",
       "    .dataframe tbody tr th:only-of-type {\n",
       "        vertical-align: middle;\n",
       "    }\n",
       "\n",
       "    .dataframe tbody tr th {\n",
       "        vertical-align: top;\n",
       "    }\n",
       "\n",
       "    .dataframe thead th {\n",
       "        text-align: right;\n",
       "    }\n",
       "</style>\n",
       "<table border=\"1\" class=\"dataframe\">\n",
       "  <thead>\n",
       "    <tr style=\"text-align: right;\">\n",
       "      <th></th>\n",
       "      <th>1</th>\n",
       "    </tr>\n",
       "  </thead>\n",
       "  <tbody>\n",
       "    <tr>\n",
       "      <th>course_name</th>\n",
       "      <td>Machine Learning</td>\n",
       "    </tr>\n",
       "    <tr>\n",
       "      <th>duration</th>\n",
       "      <td>3</td>\n",
       "    </tr>\n",
       "  </tbody>\n",
       "</table>\n",
       "</div>"
      ],
      "text/plain": [
       "                            1\n",
       "course_name  Machine Learning\n",
       "duration                    3"
      ]
     },
     "execution_count": 23,
     "metadata": {},
     "output_type": "execute_result"
    }
   ],
   "source": [
    "pd.DataFrame(df.loc[1])"
   ]
  },
  {
   "cell_type": "code",
   "execution_count": 24,
   "id": "7de2fb84-f9f8-413d-b1bf-d54bedc961b9",
   "metadata": {},
   "outputs": [
    {
     "name": "stdout",
     "output_type": "stream",
     "text": [
      "course_name    Machine Learning\n",
      "duration                      3\n",
      "Name: 1, dtype: object\n"
     ]
    },
    {
     "data": {
      "text/html": [
       "<div>\n",
       "<style scoped>\n",
       "    .dataframe tbody tr th:only-of-type {\n",
       "        vertical-align: middle;\n",
       "    }\n",
       "\n",
       "    .dataframe tbody tr th {\n",
       "        vertical-align: top;\n",
       "    }\n",
       "\n",
       "    .dataframe thead th {\n",
       "        text-align: right;\n",
       "    }\n",
       "</style>\n",
       "<table border=\"1\" class=\"dataframe\">\n",
       "  <thead>\n",
       "    <tr style=\"text-align: right;\">\n",
       "      <th></th>\n",
       "      <th>1</th>\n",
       "    </tr>\n",
       "  </thead>\n",
       "  <tbody>\n",
       "    <tr>\n",
       "      <th>course_name</th>\n",
       "      <td>Machine Learning</td>\n",
       "    </tr>\n",
       "    <tr>\n",
       "      <th>duration</th>\n",
       "      <td>3</td>\n",
       "    </tr>\n",
       "  </tbody>\n",
       "</table>\n",
       "</div>"
      ],
      "text/plain": [
       "                            1\n",
       "course_name  Machine Learning\n",
       "duration                    3"
      ]
     },
     "execution_count": 24,
     "metadata": {},
     "output_type": "execute_result"
    }
   ],
   "source": [
    "#example of iloc\n",
    "print(df.iloc[1])\n",
    "pd.DataFrame(df.iloc[1])"
   ]
  },
  {
   "cell_type": "markdown",
   "id": "c13c2afa-9340-460f-88a1-204bb95c20c5",
   "metadata": {},
   "source": [
    "Q3. Reindex the given dataframe using a variable, reindex = [3,0,1,2] and store it in the variable, new_df\n",
    "then find the output for both new_df.loc[2] and new_df.iloc[2].\n",
    "Did you observe any difference in both the outputs? If so then explain it."
   ]
  },
  {
   "cell_type": "code",
   "execution_count": 25,
   "id": "7a7ff639-6955-41fb-9e03-3aa05dab1a92",
   "metadata": {},
   "outputs": [
    {
     "name": "stdout",
     "output_type": "stream",
     "text": [
      "        course_name  duration\n",
      "3     Data Engineer         4\n",
      "0      Data Science         2\n",
      "1  Machine Learning         3\n",
      "2          Big Data         6\n"
     ]
    }
   ],
   "source": [
    "reindex = [3, 0, 1, 2]\n",
    "new_df = df.reindex(reindex)\n",
    "df1=pd.DataFrame(new_df)\n",
    "print(new_df)"
   ]
  },
  {
   "cell_type": "code",
   "execution_count": 26,
   "id": "8835ae07-f16a-4bb9-9cf2-99f7f0d391a4",
   "metadata": {},
   "outputs": [
    {
     "data": {
      "text/html": [
       "<div>\n",
       "<style scoped>\n",
       "    .dataframe tbody tr th:only-of-type {\n",
       "        vertical-align: middle;\n",
       "    }\n",
       "\n",
       "    .dataframe tbody tr th {\n",
       "        vertical-align: top;\n",
       "    }\n",
       "\n",
       "    .dataframe thead th {\n",
       "        text-align: right;\n",
       "    }\n",
       "</style>\n",
       "<table border=\"1\" class=\"dataframe\">\n",
       "  <thead>\n",
       "    <tr style=\"text-align: right;\">\n",
       "      <th></th>\n",
       "      <th>course_name</th>\n",
       "      <th>duration</th>\n",
       "    </tr>\n",
       "  </thead>\n",
       "  <tbody>\n",
       "    <tr>\n",
       "      <th>3</th>\n",
       "      <td>Data Engineer</td>\n",
       "      <td>4</td>\n",
       "    </tr>\n",
       "    <tr>\n",
       "      <th>0</th>\n",
       "      <td>Data Science</td>\n",
       "      <td>2</td>\n",
       "    </tr>\n",
       "    <tr>\n",
       "      <th>1</th>\n",
       "      <td>Machine Learning</td>\n",
       "      <td>3</td>\n",
       "    </tr>\n",
       "    <tr>\n",
       "      <th>2</th>\n",
       "      <td>Big Data</td>\n",
       "      <td>6</td>\n",
       "    </tr>\n",
       "  </tbody>\n",
       "</table>\n",
       "</div>"
      ],
      "text/plain": [
       "        course_name  duration\n",
       "3     Data Engineer         4\n",
       "0      Data Science         2\n",
       "1  Machine Learning         3\n",
       "2          Big Data         6"
      ]
     },
     "execution_count": 26,
     "metadata": {},
     "output_type": "execute_result"
    }
   ],
   "source": [
    "df1"
   ]
  },
  {
   "cell_type": "code",
   "execution_count": 27,
   "id": "0a6769cb-282f-48a6-bfd2-7ae2d70a5d2b",
   "metadata": {},
   "outputs": [
    {
     "name": "stdout",
     "output_type": "stream",
     "text": [
      "new_df.loc[2]:\n",
      "course_name    Big Data\n",
      "duration              6\n",
      "Name: 2, dtype: object\n"
     ]
    }
   ],
   "source": [
    "print(\"new_df.loc[2]:\")\n",
    "print(new_df.loc[2])"
   ]
  },
  {
   "cell_type": "code",
   "execution_count": 28,
   "id": "12560b75-39c5-4727-8955-23fb28d22768",
   "metadata": {},
   "outputs": [
    {
     "name": "stdout",
     "output_type": "stream",
     "text": [
      "new_df.iloc[2]:\n",
      "course_name    Machine Learning\n",
      "duration                      3\n",
      "Name: 1, dtype: object\n"
     ]
    }
   ],
   "source": [
    "print(\"new_df.iloc[2]:\")\n",
    "print(new_df.iloc[2])\n"
   ]
  },
  {
   "cell_type": "markdown",
   "id": "71bbec8a-3349-4ba2-a4fe-a20169cd3184",
   "metadata": {},
   "source": [
    "\n",
    "**Explanation of Observed Differences**\n",
    "\n",
    "- **`new_df.loc[2]`**:\n",
    "  - This accesses the row where the original index was `2` (which is now at the new index position after reindexing).\n",
    "  - Since we reindexed `[3, 0, 1, 2]`, the row corresponding to the original index `2` is now in the last position.\n",
    "  - Output: Should correspond to the original `df` row with index `2`.\n",
    "\n",
    "- **`new_df.iloc[2]`**:\n",
    "  - This accesses the row at the integer position `2` in the new reindexed DataFrame.\n",
    "  - Since we reindexed `[3, 0, 1, 2]`, the row at position `2` corresponds to the original `df` row with index `1`.\n",
    "  - Output: Should correspond to the original `df` row with index `1`.\n",
    "\n"
   ]
  },
  {
   "cell_type": "markdown",
   "id": "eaf9863e-f489-4690-84d0-943b545d50e9",
   "metadata": {},
   "source": [
    "Consider the below code to answer further questions:\n",
    "import pandas as pd\n",
    "import numpy as np\n",
    "columns = ['column_1', 'column_2', 'column_3', 'column_4', 'column_5', 'column_6']\n",
    "indices = [1,2,3,4,5,6]\n",
    "#Creating a dataframe:\n",
    "df1 = pd.DataFrame(np.random.rand(6,6), columns = columns, index = indices)"
   ]
  },
  {
   "cell_type": "code",
   "execution_count": 29,
   "id": "d8eeedbd-ad50-4781-914a-e3d64fafb99e",
   "metadata": {},
   "outputs": [
    {
     "name": "stdout",
     "output_type": "stream",
     "text": [
      "   column_1  column_2  column_3  column_4  column_5  column_6\n",
      "1  0.481182  0.507146  0.391671  0.093302  0.066657  0.739687\n",
      "2  0.578556  0.499559  0.212753  0.539842  0.889581  0.508951\n",
      "3  0.207161  0.663566  0.452853  0.921778  0.231891  0.981239\n",
      "4  0.361669  0.635811  0.099249  0.070025  0.822069  0.613508\n",
      "5  0.514442  0.791229  0.721944  0.694523  0.690060  0.347511\n",
      "6  0.199895  0.865922  0.947819  0.067520  0.570797  0.040360\n"
     ]
    }
   ],
   "source": [
    "import pandas as pd\n",
    "import numpy as np\n",
    "columns = ['column_1', 'column_2', 'column_3', 'column_4', 'column_5', 'column_6']\n",
    "indices = [1, 2, 3, 4, 5, 6]\n",
    "df1 = pd.DataFrame(np.random.rand(6, 6), columns=columns, index=indices)\n",
    "print(df1)"
   ]
  },
  {
   "cell_type": "code",
   "execution_count": 32,
   "id": "9542084d-5e48-4cb6-a7f1-79534a2a1139",
   "metadata": {},
   "outputs": [],
   "source": [
    "df2=pd.DataFrame(df1)"
   ]
  },
  {
   "cell_type": "markdown",
   "id": "8cc5219d-0a7b-405b-841b-510345907fe6",
   "metadata": {},
   "source": [
    "Q4. Write a code to find the following statistical measurements for the above dataframe df1:\n",
    "(i) mean of each and every column present in the dataframe.\n",
    "(ii) standard deviation of column, ‘column_2’\n"
   ]
  },
  {
   "cell_type": "code",
   "execution_count": 33,
   "id": "a1c90953-615e-4fec-9014-d5d968914c67",
   "metadata": {},
   "outputs": [
    {
     "data": {
      "text/html": [
       "<div>\n",
       "<style scoped>\n",
       "    .dataframe tbody tr th:only-of-type {\n",
       "        vertical-align: middle;\n",
       "    }\n",
       "\n",
       "    .dataframe tbody tr th {\n",
       "        vertical-align: top;\n",
       "    }\n",
       "\n",
       "    .dataframe thead th {\n",
       "        text-align: right;\n",
       "    }\n",
       "</style>\n",
       "<table border=\"1\" class=\"dataframe\">\n",
       "  <thead>\n",
       "    <tr style=\"text-align: right;\">\n",
       "      <th></th>\n",
       "      <th>column_1</th>\n",
       "      <th>column_2</th>\n",
       "      <th>column_3</th>\n",
       "      <th>column_4</th>\n",
       "      <th>column_5</th>\n",
       "      <th>column_6</th>\n",
       "    </tr>\n",
       "  </thead>\n",
       "  <tbody>\n",
       "    <tr>\n",
       "      <th>1</th>\n",
       "      <td>0.481182</td>\n",
       "      <td>0.507146</td>\n",
       "      <td>0.391671</td>\n",
       "      <td>0.093302</td>\n",
       "      <td>0.066657</td>\n",
       "      <td>0.739687</td>\n",
       "    </tr>\n",
       "    <tr>\n",
       "      <th>2</th>\n",
       "      <td>0.578556</td>\n",
       "      <td>0.499559</td>\n",
       "      <td>0.212753</td>\n",
       "      <td>0.539842</td>\n",
       "      <td>0.889581</td>\n",
       "      <td>0.508951</td>\n",
       "    </tr>\n",
       "    <tr>\n",
       "      <th>3</th>\n",
       "      <td>0.207161</td>\n",
       "      <td>0.663566</td>\n",
       "      <td>0.452853</td>\n",
       "      <td>0.921778</td>\n",
       "      <td>0.231891</td>\n",
       "      <td>0.981239</td>\n",
       "    </tr>\n",
       "    <tr>\n",
       "      <th>4</th>\n",
       "      <td>0.361669</td>\n",
       "      <td>0.635811</td>\n",
       "      <td>0.099249</td>\n",
       "      <td>0.070025</td>\n",
       "      <td>0.822069</td>\n",
       "      <td>0.613508</td>\n",
       "    </tr>\n",
       "    <tr>\n",
       "      <th>5</th>\n",
       "      <td>0.514442</td>\n",
       "      <td>0.791229</td>\n",
       "      <td>0.721944</td>\n",
       "      <td>0.694523</td>\n",
       "      <td>0.690060</td>\n",
       "      <td>0.347511</td>\n",
       "    </tr>\n",
       "    <tr>\n",
       "      <th>6</th>\n",
       "      <td>0.199895</td>\n",
       "      <td>0.865922</td>\n",
       "      <td>0.947819</td>\n",
       "      <td>0.067520</td>\n",
       "      <td>0.570797</td>\n",
       "      <td>0.040360</td>\n",
       "    </tr>\n",
       "  </tbody>\n",
       "</table>\n",
       "</div>"
      ],
      "text/plain": [
       "   column_1  column_2  column_3  column_4  column_5  column_6\n",
       "1  0.481182  0.507146  0.391671  0.093302  0.066657  0.739687\n",
       "2  0.578556  0.499559  0.212753  0.539842  0.889581  0.508951\n",
       "3  0.207161  0.663566  0.452853  0.921778  0.231891  0.981239\n",
       "4  0.361669  0.635811  0.099249  0.070025  0.822069  0.613508\n",
       "5  0.514442  0.791229  0.721944  0.694523  0.690060  0.347511\n",
       "6  0.199895  0.865922  0.947819  0.067520  0.570797  0.040360"
      ]
     },
     "execution_count": 33,
     "metadata": {},
     "output_type": "execute_result"
    }
   ],
   "source": [
    "df2"
   ]
  },
  {
   "cell_type": "code",
   "execution_count": 40,
   "id": "c7cc5073-2688-43e4-9c42-0faf46c34705",
   "metadata": {},
   "outputs": [
    {
     "name": "stdout",
     "output_type": "stream",
     "text": [
      "\n",
      "Mean of each column:\n",
      "column_1    0.390484\n",
      "column_2    0.660539\n",
      "column_3    0.471048\n",
      "column_4    0.397832\n",
      "column_5    0.545176\n",
      "column_6    0.538543\n",
      "dtype: float64\n"
     ]
    }
   ],
   "source": [
    "#i)mean of each and every column present in the dataframe.\n",
    "column_means = df2.mean()\n",
    "print(\"\\nMean of each column:\")\n",
    "print(column_means)"
   ]
  },
  {
   "cell_type": "code",
   "execution_count": 35,
   "id": "7ef81105-b33e-41e0-a67c-7a9d1aff0f8c",
   "metadata": {},
   "outputs": [],
   "source": [
    "df3=pd.DataFrame(column_means)"
   ]
  },
  {
   "cell_type": "code",
   "execution_count": 36,
   "id": "204b78eb-20c8-4737-a882-4341a8108432",
   "metadata": {},
   "outputs": [
    {
     "data": {
      "text/html": [
       "<div>\n",
       "<style scoped>\n",
       "    .dataframe tbody tr th:only-of-type {\n",
       "        vertical-align: middle;\n",
       "    }\n",
       "\n",
       "    .dataframe tbody tr th {\n",
       "        vertical-align: top;\n",
       "    }\n",
       "\n",
       "    .dataframe thead th {\n",
       "        text-align: right;\n",
       "    }\n",
       "</style>\n",
       "<table border=\"1\" class=\"dataframe\">\n",
       "  <thead>\n",
       "    <tr style=\"text-align: right;\">\n",
       "      <th></th>\n",
       "      <th>0</th>\n",
       "    </tr>\n",
       "  </thead>\n",
       "  <tbody>\n",
       "    <tr>\n",
       "      <th>column_1</th>\n",
       "      <td>0.390484</td>\n",
       "    </tr>\n",
       "    <tr>\n",
       "      <th>column_2</th>\n",
       "      <td>0.660539</td>\n",
       "    </tr>\n",
       "    <tr>\n",
       "      <th>column_3</th>\n",
       "      <td>0.471048</td>\n",
       "    </tr>\n",
       "    <tr>\n",
       "      <th>column_4</th>\n",
       "      <td>0.397832</td>\n",
       "    </tr>\n",
       "    <tr>\n",
       "      <th>column_5</th>\n",
       "      <td>0.545176</td>\n",
       "    </tr>\n",
       "    <tr>\n",
       "      <th>column_6</th>\n",
       "      <td>0.538543</td>\n",
       "    </tr>\n",
       "  </tbody>\n",
       "</table>\n",
       "</div>"
      ],
      "text/plain": [
       "                 0\n",
       "column_1  0.390484\n",
       "column_2  0.660539\n",
       "column_3  0.471048\n",
       "column_4  0.397832\n",
       "column_5  0.545176\n",
       "column_6  0.538543"
      ]
     },
     "execution_count": 36,
     "metadata": {},
     "output_type": "execute_result"
    }
   ],
   "source": [
    "df3"
   ]
  },
  {
   "cell_type": "code",
   "execution_count": 44,
   "id": "0e2a472e-b5cc-4005-803c-f2cb360c875d",
   "metadata": {},
   "outputs": [
    {
     "name": "stdout",
     "output_type": "stream",
     "text": [
      "\n",
      "Standard deviation of column 'column_2':\n",
      "0.14786950667364782\n"
     ]
    }
   ],
   "source": [
    "# (ii) Standard deviation of column, 'column_2'\n",
    "column_2_std = df2['column_2'].std()\n",
    "print(\"\\nStandard deviation of column 'column_2':\")\n",
    "print(column_2_std)"
   ]
  },
  {
   "cell_type": "markdown",
   "id": "93907e73-188f-4372-b5aa-630a09dcd893",
   "metadata": {},
   "source": [
    "Q5. Replace the data present in the second row of column, ‘column_2’ by a string variable then find the\n",
    "mean of column, column_2.\n",
    "If you are getting errors in executing it then explain why.\n",
    "[Hint: To replace the data use df1.loc[] and equate this to string data of your choice.]"
   ]
  },
  {
   "cell_type": "code",
   "execution_count": 47,
   "id": "f34e75f6-d0d8-464c-966e-5dc702224c35",
   "metadata": {},
   "outputs": [
    {
     "name": "stdout",
     "output_type": "stream",
     "text": [
      "\n",
      "Modified DataFrame (df1) after replacing second row of column_2 with a string:\n",
      "   column_1      column_2  column_3  column_4  column_5  column_6\n",
      "1  0.481182      0.507146  0.391671  0.093302  0.066657  0.739687\n",
      "2  0.578556  string_value  0.212753  0.539842  0.889581  0.508951\n",
      "3  0.207161      0.663566  0.452853  0.921778  0.231891  0.981239\n",
      "4  0.361669      0.635811  0.099249  0.070025  0.822069  0.613508\n",
      "5  0.514442      0.791229  0.721944  0.694523  0.690060  0.347511\n",
      "6  0.199895      0.865922  0.947819  0.067520  0.570797  0.040360\n",
      "\n",
      "Error calculating the mean of column 'column_2':\n",
      "unsupported operand type(s) for +: 'float' and 'str'\n"
     ]
    }
   ],
   "source": [
    "df1.loc[2, 'column_2'] = 'string_value'\n",
    "print(\"\\nModified DataFrame (df1) after replacing second row of column_2 with a string:\")\n",
    "print(df1)\n",
    "try:\n",
    "    column_2_mean = df1['column_2'].mean()\n",
    "    print(\"\\nMean of column 'column_2':\")\n",
    "    print(column_2_mean)\n",
    "except Exception as e:\n",
    "    print(\"\\nError calculating the mean of column 'column_2':\")\n",
    "    print(e)"
   ]
  },
  {
   "cell_type": "markdown",
   "id": "2e0e2ad4-77e7-44a2-a5c2-d48e2ca778d3",
   "metadata": {},
   "source": [
    "The error occurs because pandas tries to perform arithmetic operations (like addition) to calculate the mean. \n",
    "\n",
    "When it encounters a string value, it cannot perform these operations, resulting in a `TypeError`."
   ]
  },
  {
   "cell_type": "markdown",
   "id": "0c4660bd-4e34-4acc-9726-5ff566aa4639",
   "metadata": {},
   "source": [
    "Q6. What do you understand about the windows function in pandas and list the types of windows\n",
    "functions"
   ]
  },
  {
   "cell_type": "markdown",
   "id": "8481b1c8-91ef-40b4-913c-04529c6919b3",
   "metadata": {},
   "source": [
    "**ANSWER**:--\n",
    "\n",
    "Window functions in pandas allow US to perform calculations across a specified window of rows, providing a way to perform operations such as moving averages, cumulative sums, and other rolling statistics. These functions are essential for time series analysis and for dealing with data where calculations over a range of values are required.\n",
    "\n",
    "### Types of Window Functions\n",
    "\n",
    "1. **Rolling Window**:\n",
    "   - **Definition**: Computes a statistic for a fixed-size sliding window over the data.\n",
    "   - **Common Methods**: `.rolling(window)`, `.mean()`, `.sum()`, `.std()`, `.min()`, `.max()`.\n",
    "   - **Example**: `df['column'].rolling(window=3).mean()`\n",
    "\n",
    "2. **Expanding Window**:\n",
    "   - **Definition**: Computes a statistic over all data points from the beginning up to the current point.\n",
    "   - **Common Methods**: `.expanding(min_periods)`, `.mean()`, `.sum()`, `.std()`, `.min()`, `.max()`.\n",
    "   - **Example**: `df['column'].expanding().mean()`\n",
    "\n",
    "3. **Exponentially Weighted Window**:\n",
    "   - **Definition**: Computes a statistic using exponentially weighted functions.\n",
    "   - **Common Methods**: `.ewm(span)`, `.mean()`, `.std()`.\n",
    "   - **Example**: `df['column'].ewm(span=3).mean()`\n",
    "\n"
   ]
  },
  {
   "cell_type": "markdown",
   "id": "268f2756-c030-4905-9194-23c5ae9d55a2",
   "metadata": {},
   "source": [
    "Q7. Write a code to print only the current month and year at the time of answering this question.\n",
    "[Hint: Use pandas.datetime function]"
   ]
  },
  {
   "cell_type": "code",
   "execution_count": 49,
   "id": "90eade42-b8b9-4aa3-8ba0-f557a639b659",
   "metadata": {},
   "outputs": [
    {
     "name": "stdout",
     "output_type": "stream",
     "text": [
      "Current Month: 6\n",
      "Current Year: 2024\n"
     ]
    }
   ],
   "source": [
    "\n",
    "current_date = pd.to_datetime('today')\n",
    "current_month = current_date.month\n",
    "current_year = current_date.year\n",
    "\n",
    "# Print the current month and year\n",
    "print(f\"Current Month: {current_month}\")\n",
    "print(f\"Current Year: {current_year}\")\n"
   ]
  },
  {
   "cell_type": "markdown",
   "id": "5bab1263-6ef0-455e-b157-42383ef54708",
   "metadata": {},
   "source": [
    "Q8. Write a Python program that takes in two dates as input (in the format YYYY-MM-DD) and\n",
    "calculates the difference between them in days, hours, and minutes using Pandas time delta. The\n",
    "program should prompt the user to enter the dates and display the result."
   ]
  },
  {
   "cell_type": "code",
   "execution_count": 51,
   "id": "57a1ffc0-06d4-40e7-97c4-4d26aa664db3",
   "metadata": {},
   "outputs": [
    {
     "name": "stdin",
     "output_type": "stream",
     "text": [
      "Enter the start date (YYYY-MM-DD):  2022-09-08\n",
      "Enter the end date (YYYY-MM-DD):  2024-12-22\n"
     ]
    },
    {
     "name": "stdout",
     "output_type": "stream",
     "text": [
      "\n",
      "Time Difference:\n",
      "Days: 836\n",
      "Hours: 0\n",
      "Minutes: 0\n"
     ]
    }
   ],
   "source": [
    "def calculate_time_difference(start_date, end_date):\n",
    "    start_datetime = pd.to_datetime(start_date)\n",
    "    end_datetime = pd.to_datetime(end_date)\n",
    "    time_difference = end_datetime - start_datetime\n",
    "    days = time_difference.days\n",
    "    hours = time_difference.seconds // 3600\n",
    "    minutes = (time_difference.seconds % 3600) // 60\n",
    "    \n",
    "    return days, hours, minutes\n",
    "\n",
    "def main():\n",
    "    start_date = input(\"Enter the start date (YYYY-MM-DD): \")\n",
    "    end_date = input(\"Enter the end date (YYYY-MM-DD): \")\n",
    "    days, hours, minutes = calculate_time_difference(start_date, end_date)\n",
    "    print(\"\\nTime Difference:\")\n",
    "    print(f\"Days: {days}\")\n",
    "    print(f\"Hours: {hours}\")\n",
    "    print(f\"Minutes: {minutes}\")\n",
    "if __name__ == \"__main__\":\n",
    "    main()\n"
   ]
  },
  {
   "cell_type": "markdown",
   "id": "14b435b1-4f58-4054-a1ca-5ee583a66c3b",
   "metadata": {},
   "source": [
    "Q9. Write a Python program that reads a CSV file containing categorical data and converts a specified\n",
    "column to a categorical data type. The program should prompt the user to enter the file path, column\n",
    "name, and category order, and then display the sorted data.\n"
   ]
  },
  {
   "cell_type": "code",
   "execution_count": 72,
   "id": "91157300-4673-4281-8d5e-01999c2140d2",
   "metadata": {},
   "outputs": [
    {
     "name": "stdin",
     "output_type": "stream",
     "text": [
      "Enter the file path (CSV):  sales_data.csv\n"
     ]
    },
    {
     "name": "stdout",
     "output_type": "stream",
     "text": [
      "\n",
      "Original Data:\n",
      "         Date    Product  Sales\n",
      "0  2024-01-01  Product A    100\n",
      "1  2024-01-01  Product B    150\n",
      "2  2024-01-02  Product A    200\n",
      "3  2024-01-02  Product B    100\n",
      "4  2024-01-03  Product C    300\n"
     ]
    },
    {
     "name": "stdin",
     "output_type": "stream",
     "text": [
      "\n",
      "Enter the column name to convert to categorical:  Product\n",
      "Enter the category order (comma-separated):  A,B,C,D,E\n"
     ]
    },
    {
     "name": "stdout",
     "output_type": "stream",
     "text": [
      "\n",
      "Sorted Data:\n",
      "         Date Product  Sales\n",
      "0  2024-01-01     NaN    100\n",
      "1  2024-01-01     NaN    150\n",
      "2  2024-01-02     NaN    200\n",
      "3  2024-01-02     NaN    100\n",
      "4  2024-01-03     NaN    300\n"
     ]
    }
   ],
   "source": [
    "def convert_to_categorical(df, column_name, category_order):\n",
    "    \n",
    "    df[column_name] = pd.Categorical(df[column_name], categories=category_order, ordered=True)\n",
    "    return df\n",
    "\n",
    "def main():\n",
    "    file_path = input(\"Enter the file path (CSV): \")\n",
    "    df = pd.read_csv(file_path)\n",
    "    print(\"\\nOriginal Data:\")\n",
    "    print(df)\n",
    "    column_name = input(\"\\nEnter the column name to convert to categorical: \")\n",
    "    category_order = input(\"Enter the category order (comma-separated): \").split(',')\n",
    "    df = convert_to_categorical(df, column_name, category_order)\n",
    "    sorted_df = df.sort_values(by=column_name)\n",
    "    print(\"\\nSorted Data:\")\n",
    "    print(sorted_df)\n",
    "if __name__ == \"__main__\":\n",
    "    main()\n"
   ]
  },
  {
   "cell_type": "code",
   "execution_count": 59,
   "id": "695f681d-f588-4f0c-95f5-84e766363541",
   "metadata": {},
   "outputs": [
    {
     "name": "stdout",
     "output_type": "stream",
     "text": [
      "\n",
      "Original Data:\n",
      "      Name Category\n",
      "0    Alice      Low\n",
      "1      Bob   Medium\n",
      "2  Charlie     High\n",
      "3    David      Low\n",
      "4     Emma     High\n"
     ]
    },
    {
     "name": "stdin",
     "output_type": "stream",
     "text": [
      "\n",
      "Enter the column name to convert to categorical:  Category\n",
      "Enter the category order (comma-separated):  1,2,3,4,5\n"
     ]
    },
    {
     "name": "stdout",
     "output_type": "stream",
     "text": [
      "\n",
      "Sorted Data:\n",
      "      Name Category\n",
      "0    Alice      NaN\n",
      "1      Bob      NaN\n",
      "2  Charlie      NaN\n",
      "3    David      NaN\n",
      "4     Emma      NaN\n"
     ]
    }
   ],
   "source": [
    "#if we dont have csv file then this is a method for it \n",
    "def convert_to_categorical(df, column_name, category_order):\n",
    "    \n",
    "    df[column_name] = pd.Categorical(df[column_name], categories=category_order, ordered=True)\n",
    "    return df\n",
    "\n",
    "def main():\n",
    "    data = {\n",
    "        'Name': ['Alice', 'Bob', 'Charlie', 'David', 'Emma'],\n",
    "        'Category': ['Low', 'Medium', 'High', 'Low', 'High']\n",
    "    }\n",
    "    df = pd.DataFrame(data)\n",
    "    print(\"\\nOriginal Data:\")\n",
    "    print(df)\n",
    "    column_name = input(\"\\nEnter the column name to convert to categorical: \")\n",
    "    category_order = input(\"Enter the category order (comma-separated): \").split(',')\n",
    "    df = convert_to_categorical(df, column_name, category_order)\n",
    "    sorted_df = df.sort_values(by=column_name)\n",
    "    print(\"\\nSorted Data:\")\n",
    "    print(sorted_df)\n",
    "if __name__ == \"__main__\":\n",
    "    main()\n",
    "\n"
   ]
  },
  {
   "cell_type": "markdown",
   "id": "dad0188b-ec2e-478b-97fa-ee24186f259f",
   "metadata": {},
   "source": [
    "Q10. Write a Python program that reads a CSV file containing sales data for different products and\n",
    "visualizes the data using a stacked bar chart to show the sales of each product category over time. The\n",
    "program should prompt the user to enter the file path and display the chart."
   ]
  },
  {
   "cell_type": "code",
   "execution_count": 62,
   "id": "ce12b4eb-89ed-4165-8361-927cdda65bb2",
   "metadata": {},
   "outputs": [
    {
     "name": "stdin",
     "output_type": "stream",
     "text": [
      "Enter the file path (CSV):  sales_data.csv\n"
     ]
    },
    {
     "data": {
      "image/png": "[encoded data removed]",
      "text/plain": [
       "<Figure size 1000x600 with 1 Axes>"
      ]
     },
     "metadata": {},
     "output_type": "display_data"
    }
   ],
   "source": [
    "import pandas as pd\n",
    "import matplotlib.pyplot as plt\n",
    "\n",
    "def visualize_sales_data(file_path):\n",
    "    df = pd.read_csv(file_path)\n",
    "    df['Date'] = pd.to_datetime(df['Date'])\n",
    "    df.set_index('Date', inplace=True)\n",
    "    df_pivot = df.pivot_table(values='Sales', index=df.index, columns='Product', aggfunc='sum')\n",
    "    df_pivot.plot(kind='bar', stacked=True, figsize=(10, 6))\n",
    "    plt.title('Sales of Each Product Category Over Time')\n",
    "    plt.xlabel('Date')\n",
    "    plt.ylabel('Sales')\n",
    "    plt.legend(title='Product')\n",
    "    plt.tight_layout()\n",
    "    plt.show()\n",
    "\n",
    "def main():\n",
    "    file_path = input(\"Enter the file path (CSV): \")\n",
    "    visualize_sales_data(file_path)\n",
    "if __name__ == \"__main__\":\n",
    "    main()\n"
   ]
  },
  {
   "cell_type": "markdown",
   "id": "7c5a3aba-d1ca-43fe-bea5-8d2d8c26c128",
   "metadata": {},
   "source": [
    "Q11. You are given a CSV file containing student data that includes the student ID and their test score. Write\n",
    "a Python program that reads the CSV file, calculates the mean, median, and mode of the test scores, and\n",
    "displays the results in a table.\n",
    "The program should do the followingM\n",
    "I Prompt the user to enter the file path of the CSV file containing the student dataR\n",
    "I Read the CSV file into a Pandas DataFrameR\n",
    "I Calculate the mean, median, and mode of the test scores using Pandas toolsR\n",
    "I Display the mean, median, and mode in a table.\n",
    "Assume the CSV file contains the following columnsM\n",
    "I Student ID: The ID of the studentR\n",
    "I Test Score: The score of the student's test.\n",
    "Example usage of the program:\n",
    "Enter the file path of the CSV file containing the student data: student_data.csv\n",
    "+-----------+--------+\n",
    "| Statistic | Value |\n",
    "+-----------+--------+\n",
    "| Mean | 79.6 |\n",
    "| Median | 82 |\n",
    "| Mode | 85, 90 |\n",
    "+-----------+--------+\n",
    "Assume that the CSV file student_data.csv contains the following data:\n",
    "Student ID,Test Score\n",
    "1,85\n",
    "2,90\n",
    "3,80\n",
    "4,75\n",
    "5,85\n",
    "6,82\n",
    "7,78\n",
    "8,85\n",
    "9,90\n",
    "10,85\n",
    "The program should calculate the mean, median, and mode of the test scores and display the results\n",
    "in a table."
   ]
  },
  {
   "cell_type": "code",
   "execution_count": 70,
   "id": "550d6ec9-9b0b-4f8e-a541-4bc405b39119",
   "metadata": {},
   "outputs": [
    {
     "name": "stdout",
     "output_type": "stream",
     "text": [
      "Sample CSV file 'student_data.csv' created.\n",
      "+-----------+--------+\n",
      "| Statistic | Value  |\n",
      "+-----------+--------+\n",
      "| Mean      | 83.5   |\n",
      "| Median    | 85.0    |\n",
      "| Mode      | 85 |\n",
      "+-----------+--------+\n"
     ]
    }
   ],
   "source": [
    "import pandas as pd\n",
    "from statistics import multimode\n",
    "import os\n",
    "\n",
    "def calculate_statistics(df):\n",
    "    mean_score = df['Test Score'].mean()\n",
    "    median_score = df['Test Score'].median()\n",
    "    mode_scores = multimode(df['Test Score'])\n",
    "    \n",
    "    return mean_score, median_score, mode_scores\n",
    "\n",
    "def display_statistics(mean, median, modes):\n",
    "    print(\"+-----------+--------+\")\n",
    "    print(\"| Statistic | Value  |\")\n",
    "    print(\"+-----------+--------+\")\n",
    "    print(f\"| Mean      | {mean:.1f}   |\")\n",
    "    print(f\"| Median    | {median}    |\")\n",
    "    print(f\"| Mode      | {', '.join(map(str, modes))} |\")\n",
    "    print(\"+-----------+--------+\")\n",
    "\n",
    "def create_sample_csv(file_path):\n",
    "    data = {\n",
    "        'Student ID': [1, 2, 3, 4, 5, 6, 7, 8, 9, 10],\n",
    "        'Test Score': [85, 90, 80, 75, 85, 82, 78, 85, 90, 85]\n",
    "    }\n",
    "    df = pd.DataFrame(data)\n",
    "    df.to_csv(file_path, index=False)\n",
    "\n",
    "def main():\n",
    "    file_path = 'student_data.csv'\n",
    "    create_sample_csv(file_path)\n",
    "    print(f\"Sample CSV file '{file_path}' created.\")\n",
    "    \n",
    "    df = pd.read_csv(file_path)\n",
    "    \n",
    "    mean, median, modes = calculate_statistics(df)\n",
    "    \n",
    "    display_statistics(mean, median, modes)\n",
    "\n",
    "if __name__ == \"__main__\":\n",
    "    main()\n"
   ]
  },
  {
   "cell_type": "code",
   "execution_count": 71,
   "id": "215626dc-ffc7-449c-b403-20bcddf54b83",
   "metadata": {},
   "outputs": [
    {
     "name": "stdin",
     "output_type": "stream",
     "text": [
      "Enter the file path of the CSV file containing the student data:  student_data.csv\n"
     ]
    },
    {
     "name": "stdout",
     "output_type": "stream",
     "text": [
      "+-----------+--------+\n",
      "| Statistic | Value  |\n",
      "+-----------+--------+\n",
      "| Mean      | 83.5  |\n",
      "| Median    | 85.0   |\n",
      "| Mode      | 85 |\n",
      "+-----------+--------+\n"
     ]
    }
   ],
   "source": [
    "import pandas as pd\n",
    "from statistics import mode, multimode\n",
    "\n",
    "def calculate_statistics(df):\n",
    "    mean_score = df['Test Score'].mean()\n",
    "    median_score = df['Test Score'].median()\n",
    "    mode_scores = multimode(df['Test Score'])\n",
    "    \n",
    "    return mean_score, median_score, mode_scores\n",
    "\n",
    "def display_statistics(mean, median, modes):\n",
    "    print(\"+-----------+--------+\")\n",
    "    print(\"| Statistic | Value  |\")\n",
    "    print(\"+-----------+--------+\")\n",
    "    print(f\"| Mean      | {mean:.1f}  |\")\n",
    "    print(f\"| Median    | {median}   |\")\n",
    "    print(f\"| Mode      | {', '.join(map(str, modes))} |\")\n",
    "    print(\"+-----------+--------+\")\n",
    "\n",
    "def main():\n",
    "    \n",
    "    file_path = input(\"Enter the file path of the CSV file containing the student data: \")\n",
    "    df = pd.read_csv(file_path)\n",
    "    mean, median, modes = calculate_statistics(df)\n",
    "    display_statistics(mean, median, modes)\n",
    "if __name__ == \"__main__\":\n",
    "    main()\n",
    "    \n"
   ]
  },
  {
   "cell_type": "code",
   "execution_count": null,
   "id": "ce005115-38c4-4e4c-97d0-729b79f17785",
   "metadata": {},
   "outputs": [],
   "source": []
  }
 ],
 "metadata": {
  "kernelspec": {
   "display_name": "Python 3 (ipykernel)",
   "language": "python",
   "name": "python3"
  },
  "language_info": {
   "codemirror_mode": {
    "name": "ipython",
    "version": 3
   },
   "file_extension": ".py",
   "mimetype": "text/x-python",
   "name": "python",
   "nbconvert_exporter": "python",
   "pygments_lexer": "ipython3",
   "version": "3.10.8"
  }
 },
 "nbformat": 4,
 "nbformat_minor": 5
}
